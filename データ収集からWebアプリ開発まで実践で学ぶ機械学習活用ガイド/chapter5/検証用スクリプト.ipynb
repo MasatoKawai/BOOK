{
 "cells": [
  {
   "cell_type": "code",
   "execution_count": 1,
   "id": "0e0816d1",
   "metadata": {},
   "outputs": [],
   "source": [
    "import requests\n",
    "import json\n",
    "import glob\n",
    "\n",
    "url = 'https://fishclassification0814-prediction.cognitiveservices.azure.com/customvision/v3.0/Prediction/6404afa5-b2d7-4ca7-90f5-a4b6ec673a71/classify/iterations/Iteration1/image'\n",
    "headers={'content-type':'application/octet-stream','Prediction-Key':'57d09fdb5d32487f8b555a0e094e40f2'}\n"
   ]
  },
  {
   "cell_type": "code",
   "execution_count": 2,
   "id": "62069f1e",
   "metadata": {},
   "outputs": [],
   "source": [
    "def testModel(testfiles, fishname):\n",
    "    data_count = len(testfiles)\n",
    "    true_count = 0\n",
    "\n",
    "    for testfile in testfiles:\n",
    "        predicts = {}\n",
    "        #予測実行\n",
    "        response =requests.post(url,data=open(testfile,\"rb\"), headers=headers)\n",
    "        response.raise_for_status()\n",
    "        analysis = response.json()\n",
    "        \n",
    "        # 予測結果のタグの数だけループ　…③\n",
    "        for prediction in range(len(analysis[\"predictions\"])):\n",
    "            # 予測した魚とその確率を紐づけて格納　…④\n",
    "            predicts[analysis[\"predictions\"][prediction][\"tagName\"]] = analysis[\"predictions\"][prediction][\"probability\"]\n",
    "\n",
    "        # 一番確率の高い魚を予測結果として選択　…⑤\n",
    "        prediction_result = max(predicts, key=predicts.get)\n",
    "\n",
    "        # 予測結果が合っていれば正解数を増やす\n",
    "        if fishname == prediction_result:\n",
    "            true_count += 1\n",
    "\n",
    "    # 正解率の算出\n",
    "    accuracy = (true_count / data_count) * 100\n",
    "    print('正解率:' + str(accuracy) + '%')\n"
   ]
  },
  {
   "cell_type": "code",
   "execution_count": 3,
   "id": "f8d82877",
   "metadata": {},
   "outputs": [
    {
     "name": "stdout",
     "output_type": "stream",
     "text": [
      "*****アイゴ*****\n",
      "正解率:81.25%\n",
      "*****オニカサゴ*****\n",
      "正解率:92.85714285714286%\n"
     ]
    }
   ],
   "source": [
    "#検証用画像を保存したルートディレクトリパス\n",
    "root_dir = 'fish_images/'\n",
    "#検証対象の魚一覧\n",
    "fishnames = ['アイゴ', 'オニカサゴ']\n",
    "\n",
    "for fishname in fishnames:\n",
    "    print('*****' + fishname + '*****')\n",
    "    #testデータのリストを取得\n",
    "    testfiles = glob.glob(root_dir + fishname + '/test/*')\n",
    "    testModel(testfiles, fishname)"
   ]
  },
  {
   "cell_type": "code",
   "execution_count": null,
   "id": "28bb74f6",
   "metadata": {},
   "outputs": [],
   "source": []
  },
  {
   "cell_type": "code",
   "execution_count": null,
   "id": "47f856c8",
   "metadata": {},
   "outputs": [],
   "source": []
  }
 ],
 "metadata": {
  "kernelspec": {
   "display_name": "Python 3",
   "language": "python",
   "name": "python3"
  },
  "language_info": {
   "codemirror_mode": {
    "name": "ipython",
    "version": 3
   },
   "file_extension": ".py",
   "mimetype": "text/x-python",
   "name": "python",
   "nbconvert_exporter": "python",
   "pygments_lexer": "ipython3",
   "version": "3.9.2"
  }
 },
 "nbformat": 4,
 "nbformat_minor": 5
}
