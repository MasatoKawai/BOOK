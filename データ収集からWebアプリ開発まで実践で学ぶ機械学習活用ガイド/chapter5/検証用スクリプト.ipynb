{
 "cells": [
  {
   "cell_type": "code",
   "execution_count": 1,
   "id": "cd36943b",
   "metadata": {},
   "outputs": [
    {
     "name": "stdout",
     "output_type": "stream",
     "text": [
      "\u001b[33mWARNING: Value for scheme.headers does not match. Please report this to <https://github.com/pypa/pip/issues/9617>\n",
      "distutils: /Users/masato/miniforge3/include/python3.9/UNKNOWN\n",
      "sysconfig: /Users/masato/miniforge3/include/python3.9\u001b[0m\n",
      "\u001b[33mWARNING: Additional context:\n",
      "user = False\n",
      "home = None\n",
      "root = None\n",
      "prefix = None\u001b[0m\n",
      "Requirement already satisfied: azure-cognitiveservices-vision-customvision in /Users/masato/miniforge3/lib/python3.9/site-packages (3.1.0)\n",
      "Requirement already satisfied: msrest>=0.5.0 in /Users/masato/miniforge3/lib/python3.9/site-packages (from azure-cognitiveservices-vision-customvision) (0.6.21)\n",
      "Requirement already satisfied: azure-common~=1.1 in /Users/masato/miniforge3/lib/python3.9/site-packages (from azure-cognitiveservices-vision-customvision) (1.1.27)\n",
      "Requirement already satisfied: requests~=2.16 in /Users/masato/miniforge3/lib/python3.9/site-packages (from msrest>=0.5.0->azure-cognitiveservices-vision-customvision) (2.25.1)\n",
      "Requirement already satisfied: requests-oauthlib>=0.5.0 in /Users/masato/miniforge3/lib/python3.9/site-packages (from msrest>=0.5.0->azure-cognitiveservices-vision-customvision) (1.3.0)\n",
      "Requirement already satisfied: certifi>=2017.4.17 in /Users/masato/miniforge3/lib/python3.9/site-packages (from msrest>=0.5.0->azure-cognitiveservices-vision-customvision) (2020.12.5)\n",
      "Requirement already satisfied: isodate>=0.6.0 in /Users/masato/miniforge3/lib/python3.9/site-packages (from msrest>=0.5.0->azure-cognitiveservices-vision-customvision) (0.6.0)\n",
      "Requirement already satisfied: six in /Users/masato/miniforge3/lib/python3.9/site-packages (from isodate>=0.6.0->msrest>=0.5.0->azure-cognitiveservices-vision-customvision) (1.15.0)\n",
      "Requirement already satisfied: idna<3,>=2.5 in /Users/masato/miniforge3/lib/python3.9/site-packages (from requests~=2.16->msrest>=0.5.0->azure-cognitiveservices-vision-customvision) (2.10)\n",
      "Requirement already satisfied: urllib3<1.27,>=1.21.1 in /Users/masato/miniforge3/lib/python3.9/site-packages (from requests~=2.16->msrest>=0.5.0->azure-cognitiveservices-vision-customvision) (1.26.4)\n",
      "Requirement already satisfied: chardet<5,>=3.0.2 in /Users/masato/miniforge3/lib/python3.9/site-packages (from requests~=2.16->msrest>=0.5.0->azure-cognitiveservices-vision-customvision) (4.0.0)\n",
      "Requirement already satisfied: oauthlib>=3.0.0 in /Users/masato/miniforge3/lib/python3.9/site-packages (from requests-oauthlib>=0.5.0->msrest>=0.5.0->azure-cognitiveservices-vision-customvision) (3.1.1)\n",
      "\u001b[33mWARNING: Value for scheme.headers does not match. Please report this to <https://github.com/pypa/pip/issues/9617>\n",
      "distutils: /Users/masato/miniforge3/include/python3.9/UNKNOWN\n",
      "sysconfig: /Users/masato/miniforge3/include/python3.9\u001b[0m\n",
      "\u001b[33mWARNING: Additional context:\n",
      "user = False\n",
      "home = None\n",
      "root = None\n",
      "prefix = None\u001b[0m\n"
     ]
    }
   ],
   "source": [
    "!pip install azure-cognitiveservices-vision-customvision"
   ]
  },
  {
   "cell_type": "code",
   "execution_count": 3,
   "id": "d03713fa",
   "metadata": {},
   "outputs": [],
   "source": [
    "import glob\n",
    "from azure.cognitiveservices.vision.customvision.prediction import CustomVisionPredictionClient"
   ]
  },
  {
   "cell_type": "code",
   "execution_count": 44,
   "id": "0e0816d1",
   "metadata": {},
   "outputs": [],
   "source": [
    "base_url = 'https://fishclassification0814.cognitiveservices.azure.com/'\n",
    "projectID = '6404afa5-b2d7-4ca7-90f5-a4b6ec673a71'\n",
    "publish_iteration_name = 'Iteration1'\n",
    "prediction_key = '043d083540e24f4d9bf22320683763c0'"
   ]
  },
  {
   "cell_type": "code",
   "execution_count": 45,
   "id": "62069f1e",
   "metadata": {},
   "outputs": [],
   "source": [
    "def testModel(testfiles, fishname):\n",
    "    data_count = len(testfiles)\n",
    "    true_count = 0\n",
    "\n",
    "    # 予測用インスタンスの作成　…①\n",
    "    prediction_credentials = ApiKeyCredentials(in_headers={\"Prediction-key\": prediction_key})\n",
    "    predictor = CustomVisionPredictionClient(base_url, prediction_credentials)\n",
    "    for testfile in testfiles:\n",
    "        predicts = {}\n",
    "        with open(testfile, mode='rb') as f:\n",
    "            # 予測実行　…②\n",
    "            results = predictor.classify_image(projectID, publish_iteration_name, f.read())\n",
    "\n",
    "        # 予測結果のタグの数だけループ　…③\n",
    "        for prediction in results.predictions:\n",
    "            # 予測した魚とその確率を紐づけて格納　…④\n",
    "            predicts[prediction.tag_name] = prediction.probability\n",
    "\n",
    "        # 一番確率の高い魚を予測結果として選択　…⑤\n",
    "        prediction_result = max(predicts, key=predicts.get)\n",
    "\n",
    "        # 予測結果が合っていれば正解数を増やす\n",
    "        if fishname == prediction_result:\n",
    "            true_count += 1\n",
    "\n",
    "    # 正解率の算出\n",
    "    accuracy = (true_count / data_count) * 100\n",
    "    print('正解率:' + str(accuracy) + '%')\n"
   ]
  },
  {
   "cell_type": "code",
   "execution_count": 47,
   "id": "f8d82877",
   "metadata": {},
   "outputs": [
    {
     "name": "stdout",
     "output_type": "stream",
     "text": [
      "*****アイゴ*****\n"
     ]
    },
    {
     "ename": "CustomVisionErrorException",
     "evalue": "Operation returned an invalid status code 'Access Denied'",
     "output_type": "error",
     "traceback": [
      "\u001b[0;31m---------------------------------------------------------------------------\u001b[0m",
      "\u001b[0;31mCustomVisionErrorException\u001b[0m                Traceback (most recent call last)",
      "\u001b[0;32m<ipython-input-47-4906765a0299>\u001b[0m in \u001b[0;36m<module>\u001b[0;34m\u001b[0m\n\u001b[1;32m      8\u001b[0m     \u001b[0;31m#testデータのリストを取得\u001b[0m\u001b[0;34m\u001b[0m\u001b[0;34m\u001b[0m\u001b[0;34m\u001b[0m\u001b[0m\n\u001b[1;32m      9\u001b[0m     \u001b[0mtestfiles\u001b[0m \u001b[0;34m=\u001b[0m \u001b[0mglob\u001b[0m\u001b[0;34m.\u001b[0m\u001b[0mglob\u001b[0m\u001b[0;34m(\u001b[0m\u001b[0mroot_dir\u001b[0m \u001b[0;34m+\u001b[0m \u001b[0mfishname\u001b[0m \u001b[0;34m+\u001b[0m \u001b[0;34m'/test/*'\u001b[0m\u001b[0;34m)\u001b[0m\u001b[0;34m\u001b[0m\u001b[0;34m\u001b[0m\u001b[0m\n\u001b[0;32m---> 10\u001b[0;31m     \u001b[0mtestModel\u001b[0m\u001b[0;34m(\u001b[0m\u001b[0mtestfiles\u001b[0m\u001b[0;34m,\u001b[0m \u001b[0mfishname\u001b[0m\u001b[0;34m)\u001b[0m\u001b[0;34m\u001b[0m\u001b[0;34m\u001b[0m\u001b[0m\n\u001b[0m",
      "\u001b[0;32m<ipython-input-45-4f91c105cdd7>\u001b[0m in \u001b[0;36mtestModel\u001b[0;34m(testfiles, fishname)\u001b[0m\n\u001b[1;32m     10\u001b[0m         \u001b[0;32mwith\u001b[0m \u001b[0mopen\u001b[0m\u001b[0;34m(\u001b[0m\u001b[0mtestfile\u001b[0m\u001b[0;34m,\u001b[0m \u001b[0mmode\u001b[0m\u001b[0;34m=\u001b[0m\u001b[0;34m'rb'\u001b[0m\u001b[0;34m)\u001b[0m \u001b[0;32mas\u001b[0m \u001b[0mf\u001b[0m\u001b[0;34m:\u001b[0m\u001b[0;34m\u001b[0m\u001b[0;34m\u001b[0m\u001b[0m\n\u001b[1;32m     11\u001b[0m             \u001b[0;31m# 予測実行　…②\u001b[0m\u001b[0;34m\u001b[0m\u001b[0;34m\u001b[0m\u001b[0;34m\u001b[0m\u001b[0m\n\u001b[0;32m---> 12\u001b[0;31m             \u001b[0mresults\u001b[0m \u001b[0;34m=\u001b[0m \u001b[0mpredictor\u001b[0m\u001b[0;34m.\u001b[0m\u001b[0mclassify_image\u001b[0m\u001b[0;34m(\u001b[0m\u001b[0mprojectID\u001b[0m\u001b[0;34m,\u001b[0m \u001b[0mpublish_iteration_name\u001b[0m\u001b[0;34m,\u001b[0m \u001b[0mf\u001b[0m\u001b[0;34m.\u001b[0m\u001b[0mread\u001b[0m\u001b[0;34m(\u001b[0m\u001b[0;34m)\u001b[0m\u001b[0;34m)\u001b[0m\u001b[0;34m\u001b[0m\u001b[0;34m\u001b[0m\u001b[0m\n\u001b[0m\u001b[1;32m     13\u001b[0m \u001b[0;34m\u001b[0m\u001b[0m\n\u001b[1;32m     14\u001b[0m         \u001b[0;31m# 予測結果のタグの数だけループ　…③\u001b[0m\u001b[0;34m\u001b[0m\u001b[0;34m\u001b[0m\u001b[0;34m\u001b[0m\u001b[0m\n",
      "\u001b[0;32m~/miniforge3/lib/python3.9/site-packages/azure/cognitiveservices/vision/customvision/prediction/operations/_custom_vision_prediction_client_operations.py\u001b[0m in \u001b[0;36mclassify_image\u001b[0;34m(self, project_id, published_name, image_data, application, custom_headers, raw, **operation_config)\u001b[0m\n\u001b[1;32m     74\u001b[0m \u001b[0;34m\u001b[0m\u001b[0m\n\u001b[1;32m     75\u001b[0m         \u001b[0;32mif\u001b[0m \u001b[0mresponse\u001b[0m\u001b[0;34m.\u001b[0m\u001b[0mstatus_code\u001b[0m \u001b[0;32mnot\u001b[0m \u001b[0;32min\u001b[0m \u001b[0;34m[\u001b[0m\u001b[0;36m200\u001b[0m\u001b[0;34m]\u001b[0m\u001b[0;34m:\u001b[0m\u001b[0;34m\u001b[0m\u001b[0;34m\u001b[0m\u001b[0m\n\u001b[0;32m---> 76\u001b[0;31m             \u001b[0;32mraise\u001b[0m \u001b[0mmodels\u001b[0m\u001b[0;34m.\u001b[0m\u001b[0mCustomVisionErrorException\u001b[0m\u001b[0;34m(\u001b[0m\u001b[0mself\u001b[0m\u001b[0;34m.\u001b[0m\u001b[0m_deserialize\u001b[0m\u001b[0;34m,\u001b[0m \u001b[0mresponse\u001b[0m\u001b[0;34m)\u001b[0m\u001b[0;34m\u001b[0m\u001b[0;34m\u001b[0m\u001b[0m\n\u001b[0m\u001b[1;32m     77\u001b[0m \u001b[0;34m\u001b[0m\u001b[0m\n\u001b[1;32m     78\u001b[0m         \u001b[0mdeserialized\u001b[0m \u001b[0;34m=\u001b[0m \u001b[0;32mNone\u001b[0m\u001b[0;34m\u001b[0m\u001b[0;34m\u001b[0m\u001b[0m\n",
      "\u001b[0;31mCustomVisionErrorException\u001b[0m: Operation returned an invalid status code 'Access Denied'"
     ]
    }
   ],
   "source": [
    "#検証用画像を保存したルートディレクトリパス\n",
    "root_dir = 'fish_images/'\n",
    "#検証対象の魚一覧\n",
    "fishnames = ['アイゴ', 'オニカサゴ']\n",
    "\n",
    "for fishname in fishnames:\n",
    "    print('*****' + fishname + '*****')\n",
    "    #testデータのリストを取得\n",
    "    testfiles = glob.glob(root_dir + fishname + '/test/*')\n",
    "    testModel(testfiles, fishname)"
   ]
  },
  {
   "cell_type": "code",
   "execution_count": 41,
   "id": "b95a476c",
   "metadata": {},
   "outputs": [],
   "source": [
    "from azure.cognitiveservices.vision.customvision.training import CustomVisionTrainingClient\n",
    "from azure.cognitiveservices.vision.customvision.prediction import CustomVisionPredictionClient\n",
    "from azure.cognitiveservices.vision.customvision.training.models import ImageFileCreateBatch, ImageFileCreateEntry, Region\n",
    "from msrest.authentication import ApiKeyCredentials\n",
    "import os, time, uuid"
   ]
  },
  {
   "cell_type": "code",
   "execution_count": null,
   "id": "054aee57",
   "metadata": {},
   "outputs": [],
   "source": []
  }
 ],
 "metadata": {
  "kernelspec": {
   "display_name": "Python 3",
   "language": "python",
   "name": "python3"
  },
  "language_info": {
   "codemirror_mode": {
    "name": "ipython",
    "version": 3
   },
   "file_extension": ".py",
   "mimetype": "text/x-python",
   "name": "python",
   "nbconvert_exporter": "python",
   "pygments_lexer": "ipython3",
   "version": "3.9.2"
  }
 },
 "nbformat": 4,
 "nbformat_minor": 5
}
